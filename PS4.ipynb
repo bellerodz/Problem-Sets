{
 "cells": [
  {
   "cell_type": "code",
   "execution_count": null,
   "metadata": {},
   "outputs": [
    {
     "name": "stderr",
     "output_type": "stream",
     "text": [
      "Matplotlib is building the font cache; this may take a moment.\n"
     ]
    }
   ],
   "source": [
    "import urllib.request, urllib.parse, urllib.error\n",
    "import json\n",
    "import numpy as np\n",
    "import matplotlib.pyplot as plt\n",
    "\n",
    "url = 'https://api.openuv.io/api/v1/uv'\n",
    "api_token = 'e7695a95709e46842a671874b528b52f'\n",
    "\n",
    "while True:\n",
    "    date_time= '&dt=2022-11-04T02:00:00.000Z'\n",
    "    lat = input('Enter latitude coordinates from -90 to 90:')\n",
    "    lat = float(lat)\n",
    "    if lat < float(-90):\n",
    "        print('Error')\n",
    "        break\n",
    "    elif lat> float(90): \n",
    "        print('Error')\n",
    "        break\n",
    "    long = input('Enter longitude coordinates from -180 to 180:')  \n",
    "    long = float(long)\n",
    "    if long < float(-180):\n",
    "        print('Error')\n",
    "        break\n",
    "    elif long > float(180): \n",
    "        print('Error')\n",
    "        break\n",
    "    \n",
    "    urlr = url + \"?\" + urllib.parse.urlencode({'lat=': lat},{'&lng=': long})+ date_time\n",
    "    urlo = urllib.request.urlopen(urllib.request.Request(urlr, headers={'x-access-token':'e7695a95709e46842a671874b528b52f'}))\n",
    "    data = urlo.read().decode()\n",
    "    \n",
    "\n",
    "    try:\n",
    "        js = json.loads(data)\n",
    "    except:\n",
    "        js = None\n",
    "    for lat in js:\n",
    "        for long in js:\n",
    "            data_pts={'skin type 1':long['st1'], 'skin type 2':long['st2'], 'skin type 3':long['st3'],'skin type 4':long['st4'],\n",
    "        'skin type 5':long['st5'], 'skin type 6':long['st6']}\n",
    "            skin_types = list(data_pts.keys())\n",
    "            minutes = list(data_pts.values())\n",
    "            graph = plt.figure(figsize =(15, 10))\n",
    "            plt.bar(skin_types,minutes, color ='black',\n",
    "            width = 0.5)\n",
    "            plt.xlabel(\"Fitzpatrick Skin Types\")\n",
    "            plt.ylabel(\"Minutes before suffering a burn\")\n",
    "            plt.title(\"Minutes Until Burn for Different Skin Types \")\n",
    "            plt.show()\n",
    " \n",
    "\n",
    "            print(\"Safe exposure (mins) before getting burned for skin type 1: \", long['st1'])\n",
    "            print(\"Safe exposure (mins) before getting burned for skin type 2: \", long['st2'])\n",
    "            print(\"Safe exposure (mins) before getting burned for skin type 3: \", long['st3'])\n",
    "            print(\"Safe exposure (mins) before getting burned for skin type 4: \", long['st4'])\n",
    "            print(\"Safe exposure (mins) before getting burned for skin type 5: \", long['st5'])\n",
    "            print(\"Safe exposure (mins) before getting burned for skin type 6: \", long['st6'])"
   ]
  },
  {
   "cell_type": "code",
   "execution_count": null,
   "metadata": {},
   "outputs": [],
   "source": []
  }
 ],
 "metadata": {
  "kernelspec": {
   "display_name": "Python 3 (ipykernel)",
   "language": "python",
   "name": "python3"
  },
  "language_info": {
   "codemirror_mode": {
    "name": "ipython",
    "version": 3
   },
   "file_extension": ".py",
   "mimetype": "text/x-python",
   "name": "python",
   "nbconvert_exporter": "python",
   "pygments_lexer": "ipython3",
   "version": "3.8.1"
  }
 },
 "nbformat": 4,
 "nbformat_minor": 4
}
