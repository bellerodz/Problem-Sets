{
 "cells": [
  {
   "cell_type": "code",
   "execution_count": null,
   "metadata": {},
   "outputs": [],
   "source": [
    "fhand = open ('CO-OPS__8729108__wl.csv')\n",
    "count=0\n",
    "max_water_level=0\n",
    "date_time_max_water_level= ''\n",
    "fhand.readline()\n",
    "\n",
    "for line in fhand:\n",
    "    count=count+1\n",
    "    line=line.strip()\n",
    "    \n",
    "    columns=line.split(sep=',')\n",
    "    date_time=columns[0]\n",
    "    try:\n",
    "        water_level=float(columns[1])\n",
    "    except:\n",
    "        continue  \n",
    "    \n",
    "    if water_level>max_water_level:\n",
    "        max_water_level=water_level\n",
    "        date_time_max_water_level = date_time\n",
    "    \n",
    "print(max_water_level, date_time_max_water_level)\n"
   ]
  }
 ],
 "metadata": {
  "kernelspec": {
   "display_name": "Python 3 (ipykernel)",
   "language": "python",
   "name": "python3"
  },
  "language_info": {
   "codemirror_mode": {
    "name": "ipython",
    "version": 3
   },
   "file_extension": ".py",
   "mimetype": "text/x-python",
   "name": "python",
   "nbconvert_exporter": "python",
   "pygments_lexer": "ipython3",
   "version": "3.8.1"
  }
 },
 "nbformat": 4,
 "nbformat_minor": 4
}
