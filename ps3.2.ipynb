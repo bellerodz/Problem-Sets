{
 "cells": [
  {
   "cell_type": "code",
   "execution_count": 3,
   "metadata": {},
   "outputs": [
    {
     "name": "stdout",
     "output_type": "stream",
     "text": [
      "6.647 2018-10-10 18:06\n",
      "1.621 2018-10-11 15:36\n",
      "2.9782096551724146\n"
     ]
    }
   ],
   "source": [
    "fhand = open ('CO-OPS__8729108__wl.csv')\n",
    "count=0\n",
    "max_water_level=0\n",
    "min_water_level=100\n",
    "average_water_level=0\n",
    "total_water_level=0\n",
    "date_time_max_water_level= ''\n",
    "date_time_min_water_level= ''\n",
    "date_time_average_water_level= ''\n",
    "fhand.readline()\n",
    "\n",
    "for line in fhand:\n",
    "    count=count+1\n",
    "    line=line.strip()\n",
    "    \n",
    "    columns=line.split(sep=',')\n",
    "    date_time=columns[0]\n",
    "    try:\n",
    "        water_level=float(columns[1])\n",
    "        total_water_level= water_level + total_water_level\n",
    "    except:\n",
    "        continue  \n",
    "    \n",
    "    if water_level>max_water_level:\n",
    "        max_water_level=water_level\n",
    "        date_time_max_water_level = date_time\n",
    "        \n",
    "    if water_level<min_water_level:\n",
    "        min_water_level=water_level\n",
    "        date_time_min_water_level = date_time\n",
    "\n",
    "average_water_level= total_water_level/count\n",
    "    \n",
    "print(max_water_level, date_time_max_water_level)\n",
    "print(min_water_level, date_time_min_water_level)\n",
    "print(average_water_level)\n"
   ]
  },
  {
   "cell_type": "code",
   "execution_count": null,
   "metadata": {},
   "outputs": [],
   "source": []
  }
 ],
 "metadata": {
  "kernelspec": {
   "display_name": "Python 3 (ipykernel)",
   "language": "python",
   "name": "python3"
  },
  "language_info": {
   "codemirror_mode": {
    "name": "ipython",
    "version": 3
   },
   "file_extension": ".py",
   "mimetype": "text/x-python",
   "name": "python",
   "nbconvert_exporter": "python",
   "pygments_lexer": "ipython3",
   "version": "3.8.1"
  }
 },
 "nbformat": 4,
 "nbformat_minor": 4
}
