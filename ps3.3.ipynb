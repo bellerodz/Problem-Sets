{
 "cells": [
  {
   "cell_type": "code",
   "execution_count": 3,
   "metadata": {},
   "outputs": [
    {
     "name": "stdout",
     "output_type": "stream",
     "text": [
      "0.6400000000000006 2018-10-10 17:42\n"
     ]
    }
   ],
   "source": [
    "fhand = open ('CO-OPS__8729108__wl.csv')\n",
    "count=0;\n",
    "previous_water_level=0\n",
    "date_time_max_water_change= ''\n",
    "water_change=0\n",
    "max_water_change=0\n",
    "fhand.readline()\n",
    "\n",
    "for line in fhand:\n",
    "    count=count+1\n",
    "    line=line.strip()\n",
    "    \n",
    "    columns=line.split(sep=',')\n",
    "    date_time=columns[0]\n",
    "    try:\n",
    "        water_level=float(columns[1])\n",
    "    except:\n",
    "        continue  \n",
    "\n",
    "    if count==1:\n",
    "        previous_water_level=water_level\n",
    "        \n",
    "    if water_level>previous_water_level:\n",
    "        water_change=water_level - previous_water_level\n",
    "        previous_water_level=water_level\n",
    "        \n",
    "    if water_change> max_water_change:\n",
    "        max_water_change=water_change\n",
    "        date_time_max_water_change=date_time\n",
    "    \n",
    "    \n",
    "print(max_water_change, date_time_max_water_change)"
   ]
  },
  {
   "cell_type": "code",
   "execution_count": null,
   "metadata": {},
   "outputs": [],
   "source": []
  }
 ],
 "metadata": {
  "kernelspec": {
   "display_name": "Python 3 (ipykernel)",
   "language": "python",
   "name": "python3"
  },
  "language_info": {
   "codemirror_mode": {
    "name": "ipython",
    "version": 3
   },
   "file_extension": ".py",
   "mimetype": "text/x-python",
   "name": "python",
   "nbconvert_exporter": "python",
   "pygments_lexer": "ipython3",
   "version": "3.8.1"
  }
 },
 "nbformat": 4,
 "nbformat_minor": 4
}
